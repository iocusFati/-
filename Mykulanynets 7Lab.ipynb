{
  "cells": [
    {
      "cell_type": "code",
      "execution_count": null,
      "id": "5e7cc2da-24bf-4009-a01b-2eb4a56a3c75",
      "metadata": {
        "id": "5e7cc2da-24bf-4009-a01b-2eb4a56a3c75"
      },
      "outputs": [],
      "source": [
        "# 1 ЗАВДАННЯ:"
      ]
    },
    {
      "cell_type": "code",
      "execution_count": 1,
      "id": "172ac30f-8948-433b-aaae-cb8b298d2f7a",
      "metadata": {
        "id": "172ac30f-8948-433b-aaae-cb8b298d2f7a"
      },
      "outputs": [],
      "source": [
        "import subprocess\n",
        "import sys"
      ]
    },
    {
      "cell_type": "code",
      "execution_count": 2,
      "id": "2ffb7a07-deaf-41da-b42e-ade748c33f51",
      "metadata": {
        "colab": {
          "base_uri": "https://localhost:8080/"
        },
        "id": "2ffb7a07-deaf-41da-b42e-ade748c33f51",
        "outputId": "c5303e3b-d68b-4f59-d9c6-fcb144b3c18b"
      },
      "outputs": [
        {
          "output_type": "execute_result",
          "data": {
            "text/plain": [
              "0"
            ]
          },
          "metadata": {},
          "execution_count": 2
        }
      ],
      "source": [
        "subprocess.check_call([sys.executable, \"-m\", \"pip\", \"install\", \"numpy<2\", \"surprise\", \"pybind11>=2.12\"])"
      ]
    },
    {
      "cell_type": "code",
      "execution_count": 3,
      "id": "85f670ca-735c-4aa9-b0d4-5fb9b79dfc71",
      "metadata": {
        "id": "85f670ca-735c-4aa9-b0d4-5fb9b79dfc71"
      },
      "outputs": [],
      "source": [
        "import numpy as np\n",
        "import pandas as pd\n",
        "from surprise import Dataset, Reader, SVD, KNNBasic, AlgoBase\n",
        "from surprise.model_selection import cross_validate, GridSearchCV\n",
        "from surprise import get_dataset_dir\n",
        "import os\n",
        "from surprise import accuracy\n",
        "from surprise.model_selection import train_test_split"
      ]
    },
    {
      "cell_type": "code",
      "execution_count": 4,
      "id": "91841263-2fe6-42d5-81cf-be5572b88d7d",
      "metadata": {
        "colab": {
          "base_uri": "https://localhost:8080/"
        },
        "id": "91841263-2fe6-42d5-81cf-be5572b88d7d",
        "outputId": "4e3a1874-db27-4715-f14b-181c4ab24cbd"
      },
      "outputs": [
        {
          "output_type": "stream",
          "name": "stdout",
          "text": [
            "Dataset ml-100k could not be found. Do you want to download it? [Y/n] Y\n",
            "Trying to download dataset from https://files.grouplens.org/datasets/movielens/ml-100k.zip...\n",
            "Done! Dataset ml-100k has been saved to /root/.surprise_data/ml-100k\n"
          ]
        }
      ],
      "source": [
        "#1 Завантаження датасету ml-100k\n",
        "data = Dataset.load_builtin('ml-100k')"
      ]
    },
    {
      "cell_type": "code",
      "execution_count": 5,
      "id": "4bc3bef6-72d5-4c79-b30a-04541fd76166",
      "metadata": {
        "colab": {
          "base_uri": "https://localhost:8080/"
        },
        "id": "4bc3bef6-72d5-4c79-b30a-04541fd76166",
        "outputId": "9e476f00-edce-42fc-bdb8-3872d69c33bb"
      },
      "outputs": [
        {
          "output_type": "stream",
          "name": "stdout",
          "text": [
            "  user item  rating  timestamp\n",
            "0  196  242     3.0  881250949\n",
            "1  186  302     3.0  891717742\n",
            "2   22  377     1.0  878887116\n",
            "3  244   51     2.0  880606923\n",
            "4  166  346     1.0  886397596\n"
          ]
        }
      ],
      "source": [
        "# 2. Вивід перших 5 рядків завантаженого датасету\n",
        "raw_ratings = data.raw_ratings\n",
        "ratings_df = pd.DataFrame(raw_ratings, columns=[\"user\", \"item\", \"rating\", \"timestamp\"])\n",
        "print(ratings_df.head())"
      ]
    },
    {
      "cell_type": "code",
      "execution_count": 7,
      "id": "f8ce474d-e555-4675-ae60-bc40df6bbbd2",
      "metadata": {
        "id": "f8ce474d-e555-4675-ae60-bc40df6bbbd2"
      },
      "outputs": [],
      "source": [
        "# 3. Реалізація двох алгоритмів для рекомендаційної системи\n",
        "# Оберемо алгоритми SVD та KNNBasic\n",
        "algo1 = SVD()\n",
        "algo2 = KNNBasic()"
      ]
    },
    {
      "cell_type": "code",
      "execution_count": 8,
      "id": "d6b011f5-f52d-4da0-9138-1a225f0126a9",
      "metadata": {
        "colab": {
          "base_uri": "https://localhost:8080/"
        },
        "id": "d6b011f5-f52d-4da0-9138-1a225f0126a9",
        "outputId": "7fdcef11-515e-4d6b-9651-9e94551ac2d8"
      },
      "outputs": [
        {
          "output_type": "stream",
          "name": "stdout",
          "text": [
            "Best SVD params: {'n_factors': 50, 'n_epochs': 30, 'lr_all': 0.005}\n",
            "Computing the cosine similarity matrix...\n",
            "Done computing similarity matrix.\n",
            "Computing the cosine similarity matrix...\n",
            "Done computing similarity matrix.\n",
            "Computing the cosine similarity matrix...\n",
            "Done computing similarity matrix.\n",
            "Computing the cosine similarity matrix...\n",
            "Done computing similarity matrix.\n",
            "Computing the cosine similarity matrix...\n",
            "Done computing similarity matrix.\n",
            "Computing the cosine similarity matrix...\n",
            "Done computing similarity matrix.\n",
            "Computing the pearson similarity matrix...\n",
            "Done computing similarity matrix.\n",
            "Computing the pearson similarity matrix...\n",
            "Done computing similarity matrix.\n",
            "Computing the pearson similarity matrix...\n",
            "Done computing similarity matrix.\n",
            "Computing the pearson similarity matrix...\n",
            "Done computing similarity matrix.\n",
            "Computing the pearson similarity matrix...\n",
            "Done computing similarity matrix.\n",
            "Computing the pearson similarity matrix...\n",
            "Done computing similarity matrix.\n",
            "Computing the cosine similarity matrix...\n",
            "Done computing similarity matrix.\n",
            "Computing the cosine similarity matrix...\n",
            "Done computing similarity matrix.\n",
            "Computing the cosine similarity matrix...\n",
            "Done computing similarity matrix.\n",
            "Computing the cosine similarity matrix...\n",
            "Done computing similarity matrix.\n",
            "Computing the cosine similarity matrix...\n",
            "Done computing similarity matrix.\n",
            "Computing the cosine similarity matrix...\n",
            "Done computing similarity matrix.\n",
            "Computing the pearson similarity matrix...\n",
            "Done computing similarity matrix.\n",
            "Computing the pearson similarity matrix...\n",
            "Done computing similarity matrix.\n",
            "Computing the pearson similarity matrix...\n",
            "Done computing similarity matrix.\n",
            "Computing the pearson similarity matrix...\n",
            "Done computing similarity matrix.\n",
            "Computing the pearson similarity matrix...\n",
            "Done computing similarity matrix.\n",
            "Computing the pearson similarity matrix...\n",
            "Done computing similarity matrix.\n",
            "Computing the cosine similarity matrix...\n",
            "Done computing similarity matrix.\n",
            "Computing the cosine similarity matrix...\n",
            "Done computing similarity matrix.\n",
            "Computing the cosine similarity matrix...\n",
            "Done computing similarity matrix.\n",
            "Computing the cosine similarity matrix...\n",
            "Done computing similarity matrix.\n",
            "Computing the cosine similarity matrix...\n",
            "Done computing similarity matrix.\n",
            "Computing the cosine similarity matrix...\n",
            "Done computing similarity matrix.\n",
            "Computing the pearson similarity matrix...\n",
            "Done computing similarity matrix.\n",
            "Computing the pearson similarity matrix...\n",
            "Done computing similarity matrix.\n",
            "Computing the pearson similarity matrix...\n",
            "Done computing similarity matrix.\n",
            "Computing the pearson similarity matrix...\n",
            "Done computing similarity matrix.\n",
            "Computing the pearson similarity matrix...\n",
            "Done computing similarity matrix.\n",
            "Computing the pearson similarity matrix...\n",
            "Done computing similarity matrix.\n",
            "Best KNN params: {'k': 30, 'sim_options': {'name': 'cosine', 'user_based': True}}\n"
          ]
        }
      ],
      "source": [
        "# 4. Використання крос-валідації для підбору оптимальних параметрів для обох алгоритмів\n",
        "# Налаштування параметрів для SVD\n",
        "param_grid_svd = {\n",
        "    'n_factors': [50, 100, 150],\n",
        "    'n_epochs': [20, 30, 40],\n",
        "    'lr_all': [0.002, 0.005, 0.01]\n",
        "}\n",
        "gs_svd = GridSearchCV(SVD, param_grid_svd, measures=['mae'], cv=3)\n",
        "gs_svd.fit(data)\n",
        "\n",
        "# Найкращі параметри для SVD\n",
        "print(\"Best SVD params:\", gs_svd.best_params['mae'])\n",
        "\n",
        "# Налаштування параметрів для KNNBasic\n",
        "param_grid_knn = {\n",
        "    'k': [10, 20, 30],\n",
        "    'sim_options': {\n",
        "        'name': ['cosine', 'pearson'],\n",
        "        'user_based': [False, True]\n",
        "    }\n",
        "}\n",
        "gs_knn = GridSearchCV(KNNBasic, param_grid_knn, measures=['mae'], cv=3)\n",
        "gs_knn.fit(data)\n",
        "\n",
        "# Найкращі параметри для KNN\n",
        "print(\"Best KNN params:\", gs_knn.best_params['mae'])"
      ]
    },
    {
      "cell_type": "code",
      "execution_count": 9,
      "id": "1462d8b6-da5b-4bdc-8b9c-9815f2307407",
      "metadata": {
        "colab": {
          "base_uri": "https://localhost:8080/"
        },
        "id": "1462d8b6-da5b-4bdc-8b9c-9815f2307407",
        "outputId": "bb036e72-792f-458c-d84e-ceb83bdfbff8"
      },
      "outputs": [
        {
          "output_type": "stream",
          "name": "stdout",
          "text": [
            "Best algorithm based on MAE: SVD\n"
          ]
        }
      ],
      "source": [
        "# 5. Обрання найкращого алгоритму на основі середньої абсолютної помилки (MAE)\n",
        "# Порівняння MAE\n",
        "best_algo = gs_svd.best_estimator['mae'] if gs_svd.best_score['mae'] < gs_knn.best_score['mae'] else gs_knn.best_estimator['mae']\n",
        "if gs_svd.best_score['mae'] < gs_knn.best_score['mae']:\n",
        "    best_algo = gs_svd.best_estimator['mae']\n",
        "    print(\"Best algorithm based on MAE: SVD\")\n",
        "else:\n",
        "    best_algo = gs_knn.best_estimator['mae']\n",
        "    print(\"Best algorithm based on MAE: KNNBasic\")"
      ]
    },
    {
      "cell_type": "code",
      "execution_count": 11,
      "id": "92b966c8-9529-4878-83d6-97fcd18081d8",
      "metadata": {
        "colab": {
          "base_uri": "https://localhost:8080/"
        },
        "id": "92b966c8-9529-4878-83d6-97fcd18081d8",
        "outputId": "2a0e45f0-a520-4ded-9b97-e15f8717481b"
      },
      "outputs": [
        {
          "output_type": "stream",
          "name": "stdout",
          "text": [
            "Top 10 recommended items for user 182:\n",
            "Item: 318, Predicted rating: 4.84\n",
            "Item: 64, Predicted rating: 4.79\n",
            "Item: 127, Predicted rating: 4.69\n",
            "Item: 22, Predicted rating: 4.64\n",
            "Item: 272, Predicted rating: 4.62\n",
            "Item: 496, Predicted rating: 4.60\n",
            "Item: 174, Predicted rating: 4.59\n",
            "Item: 187, Predicted rating: 4.50\n",
            "Item: 313, Predicted rating: 4.47\n",
            "Item: 480, Predicted rating: 4.45\n"
          ]
        }
      ],
      "source": [
        "# 6. Виведення рекомендацій (10 фільмів) для конкретного користувача\n",
        "# Використовуємо найкращий алгоритм для навчання та передбачення\n",
        "trainset = data.build_full_trainset()\n",
        "best_algo.fit(trainset)\n",
        "\n",
        "# Вибираємо конкретного користувача, для прикладу користувача з id '196'\n",
        "user_id = '182'\n",
        "\n",
        "# Знаходимо всі фільми, які користувач ще не оцінив\n",
        "items = set(ratings_df['item'].unique())\n",
        "rated_items = set(ratings_df[ratings_df['user'] == user_id]['item'])\n",
        "unrated_items = items - rated_items\n",
        "\n",
        "# Передбачаємо оцінки для цих фільмів та сортуємо\n",
        "predictions = [(item, best_algo.predict(user_id, item).est) for item in unrated_items]\n",
        "predictions.sort(key=lambda x: x[1], reverse=True)\n",
        "\n",
        "# Виводимо топ-10 рекомендацій\n",
        "recommended_items = predictions[:10]\n",
        "print(\"Top 10 recommended items for user 182:\")\n",
        "for item, rating in recommended_items:\n",
        "    print(f\"Item: {item}, Predicted rating: {rating:.2f}\")"
      ]
    },
    {
      "cell_type": "code",
      "execution_count": null,
      "id": "625d9da9-9d31-476e-84a6-cf4e24d0cf20",
      "metadata": {
        "id": "625d9da9-9d31-476e-84a6-cf4e24d0cf20"
      },
      "outputs": [],
      "source": [
        "# Висновки\n",
        "#У цьому проєкті ми створили рекомендаційну систему на основі датасету MovieLens 100k з використанням бібліотеки Surprise. Було реалізовано два алгоритми — SVD і KNNBasic, а також проведено підбір параметрів за допомогою крос-валідації для покращення якості рекомендацій. На основі середньої абсолютної похибки (MAE) було обрано найкращий алгоритм, за допомогою якого згенеровано 10 рекомендацій для конкретного користувача. У результаті було успішно реалізовано систему персоналізованих рекомендацій, здатну прогнозувати оцінки для фільмів, які користувач ще не переглядав."
      ]
    },
    {
      "cell_type": "code",
      "execution_count": null,
      "id": "e9af2afb-9b8f-4ca1-a42a-793010142755",
      "metadata": {
        "id": "e9af2afb-9b8f-4ca1-a42a-793010142755"
      },
      "outputs": [],
      "source": []
    },
    {
      "cell_type": "code",
      "execution_count": null,
      "id": "750ec922-8ee5-46a0-a6f6-43bec01a95ff",
      "metadata": {
        "id": "750ec922-8ee5-46a0-a6f6-43bec01a95ff"
      },
      "outputs": [],
      "source": [
        "# 2 ЗАВДАННЯ:"
      ]
    },
    {
      "cell_type": "code",
      "execution_count": null,
      "id": "1d70f365-52d1-4ef7-a56a-16bad54be0b5",
      "metadata": {
        "id": "1d70f365-52d1-4ef7-a56a-16bad54be0b5"
      },
      "outputs": [],
      "source": [
        "# 1. Завантаження та підготовка даних\n",
        "# Створимо DataFrame із зразком даних\n",
        "ratings_dict = {\n",
        "    'userID': [1, 1, 1, 2, 2, 3, 3, 4, 4, 5],\n",
        "    'itemID': [1, 2, 3, 1, 4, 2, 3, 4, 5, 1],\n",
        "    'rating': [5, 3, 4, 4, 5, 3, 5, 4, 2, 1]\n",
        "}\n",
        "ratings_df = pd.DataFrame(ratings_dict)\n",
        "\n",
        "# Використовуємо Surprise Reader для роботи з даними\n",
        "reader = Reader(rating_scale=(1, 5))\n",
        "data = Dataset.load_from_df(ratings_df[['userID', 'itemID', 'rating']], reader)"
      ]
    },
    {
      "cell_type": "code",
      "execution_count": null,
      "id": "404b8222-3181-42e6-8aa7-a52156e73e48",
      "metadata": {
        "id": "404b8222-3181-42e6-8aa7-a52156e73e48",
        "outputId": "2ee776e3-c1ab-4e49-ed6f-0196da8f97f1"
      },
      "outputs": [
        {
          "data": {
            "text/plain": [
              "<surprise.prediction_algorithms.matrix_factorization.SVD at 0x105a8ef10>"
            ]
          },
          "execution_count": 27,
          "metadata": {},
          "output_type": "execute_result"
        }
      ],
      "source": [
        "# 2. Навчання моделі\n",
        "# Використаємо алгоритм SVD (Single Value Decomposition)\n",
        "trainset, testset = train_test_split(data, test_size=0.2)\n",
        "model = SVD()\n",
        "model.fit(trainset)"
      ]
    },
    {
      "cell_type": "code",
      "execution_count": null,
      "id": "65790c58-59b0-4fde-811e-9fc11d7f8d6c",
      "metadata": {
        "id": "65790c58-59b0-4fde-811e-9fc11d7f8d6c",
        "outputId": "42ede5fc-ffc4-4324-8c29-0134de39ff26"
      },
      "outputs": [
        {
          "name": "stdout",
          "output_type": "stream",
          "text": [
            "RMSE: 1.5422\n",
            "RMSE: 1.5421638914048044\n"
          ]
        }
      ],
      "source": [
        "# 3. Оцінка моделі\n",
        "# Виконуємо передбачення на тестовому наборі даних\n",
        "predictions = model.test(testset)\n",
        "\n",
        "# Оцінюємо точність за допомогою метрики RMSE\n",
        "rmse = accuracy.rmse(predictions)\n",
        "print(f\"RMSE: {rmse}\")"
      ]
    },
    {
      "cell_type": "code",
      "execution_count": null,
      "id": "3608fef1-25c1-4e9a-a2c9-60a59366563c",
      "metadata": {
        "id": "3608fef1-25c1-4e9a-a2c9-60a59366563c",
        "outputId": "500c16a2-68b2-4961-9429-13666abc5185"
      },
      "outputs": [
        {
          "name": "stdout",
          "output_type": "stream",
          "text": [
            "Recommendations for user 2: [(3, 3.8760364323861864), (5, 3.765938946731381), (2, 3.7659191800437166)]\n"
          ]
        }
      ],
      "source": [
        "# 4. Отримання рекомендацій для певного користувача\n",
        "def get_recommendations(model, user_id, item_ids, n=5):\n",
        "    predictions = [model.predict(user_id, item_id) for item_id in item_ids]\n",
        "    sorted_predictions = sorted(predictions, key=lambda x: x.est, reverse=True)\n",
        "    top_n = sorted_predictions[:n]\n",
        "    return [(pred.iid, pred.est) for pred in top_n]\n",
        "\n",
        "# Отримання списку всіх товарів\n",
        "all_items = ratings_df['itemID'].unique()\n",
        "# Отримання списку товарів, які користувач ще не оцінив\n",
        "rated_items_by_user = ratings_df[ratings_df['userID'] == 2]['itemID']\n",
        "unrated_items = [item for item in all_items if item not in rated_items_by_user.values]\n",
        "\n",
        "# Отримання рекомендацій\n",
        "recommendations = get_recommendations(model, user_id=2, item_ids=unrated_items, n=3)\n",
        "print(f\"Recommendations for user 2: {recommendations}\")"
      ]
    },
    {
      "cell_type": "code",
      "execution_count": null,
      "id": "f13ea6af-96e1-43bb-8c28-33d423138462",
      "metadata": {
        "id": "f13ea6af-96e1-43bb-8c28-33d423138462"
      },
      "outputs": [],
      "source": [
        "# Висновки\n",
        "# У цьому проекті ми створили просту рекомендаційну систему, яка використовує алгоритм SVD для передбачення рейтингу товарів.\n",
        "# Ми навчали модель на основі зразка даних про оцінки товарів користувачами, після чого оцінили її точність за допомогою метрики RMSE.\n",
        "# Значення RMSE дає нам уявлення про те, наскільки добре модель передбачає оцінки користувачів.\n",
        "# Також ми отримали рекомендації для певного користувача, зокрема для користувача з ID = 2.\n",
        "# Результати показують, які товари, ймовірно, можуть сподобатися користувачу на основі його вподобань і оцінок інших користувачів.\n",
        "# Рекомендаційні системи можуть бути дуже корисними для надання персоналізованих пропозицій у різних сферах, таких як онлайн-магазини, стрімінгові платформи, соціальні мережі тощо."
      ]
    },
    {
      "cell_type": "code",
      "execution_count": null,
      "id": "da5a2413-a130-4abc-90cf-d0bd1ce49406",
      "metadata": {
        "id": "da5a2413-a130-4abc-90cf-d0bd1ce49406"
      },
      "outputs": [],
      "source": []
    }
  ],
  "metadata": {
    "kernelspec": {
      "display_name": "Python 3 (ipykernel)",
      "language": "python",
      "name": "python3"
    },
    "language_info": {
      "codemirror_mode": {
        "name": "ipython",
        "version": 3
      },
      "file_extension": ".py",
      "mimetype": "text/x-python",
      "name": "python",
      "nbconvert_exporter": "python",
      "pygments_lexer": "ipython3",
      "version": "3.9.6"
    },
    "colab": {
      "provenance": []
    }
  },
  "nbformat": 4,
  "nbformat_minor": 5
}
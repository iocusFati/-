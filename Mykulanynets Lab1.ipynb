{
  "nbformat": 4,
  "nbformat_minor": 0,
  "metadata": {
    "colab": {
      "provenance": [],
      "toc_visible": true
    },
    "kernelspec": {
      "name": "python3",
      "display_name": "Python 3"
    },
    "language_info": {
      "name": "python"
    }
  },
  "cells": [
    {
      "cell_type": "code",
      "execution_count": null,
      "metadata": {
        "id": "sG-jl-6djJ8P"
      },
      "outputs": [],
      "source": [
        "#17 варіант"
      ]
    },
    {
      "cell_type": "code",
      "source": [
        "!pip install numpy"
      ],
      "metadata": {
        "colab": {
          "base_uri": "https://localhost:8080/"
        },
        "id": "o1Gkj0GMj_7L",
        "outputId": "92820894-c40e-410b-d755-edf56eef3da9"
      },
      "execution_count": 1,
      "outputs": [
        {
          "output_type": "stream",
          "name": "stdout",
          "text": [
            "Requirement already satisfied: numpy in /usr/local/lib/python3.10/dist-packages (1.26.4)\n"
          ]
        }
      ]
    },
    {
      "cell_type": "code",
      "source": [
        "import numpy as np"
      ],
      "metadata": {
        "id": "aS5PKvD-kGzo"
      },
      "execution_count": null,
      "outputs": []
    },
    {
      "cell_type": "code",
      "source": [
        "# Створіть одновимірний масив (вектор) з числами, які є квадратами натуральних чисел, починаючи з 1, та виведіть його значення.\n",
        "squares = [i**2 for i in range(1, 11)]\n",
        "print(squares)\n"
      ],
      "metadata": {
        "colab": {
          "base_uri": "https://localhost:8080/"
        },
        "id": "uk7wLvmvkMok",
        "outputId": "3de8fb15-6724-4273-f148-1650d44a209c"
      },
      "execution_count": 2,
      "outputs": [
        {
          "output_type": "stream",
          "name": "stdout",
          "text": [
            "[1, 4, 9, 16, 25, 36, 49, 64, 81, 100]\n"
          ]
        }
      ]
    },
    {
      "cell_type": "code",
      "source": [
        "# Створіть двовимірний масив (матрицю) розміром 3x3, заповніть його значеннями випадкових цілих чисел від 1 до 5.\n",
        "import random\n",
        "matrix = [[random.randint(1, 5) for _ in range(3)] for _ in range(3)]\n",
        "print(matrix)\n"
      ],
      "metadata": {
        "colab": {
          "base_uri": "https://localhost:8080/"
        },
        "id": "nJk2eXcrlNGB",
        "outputId": "e55e8d2c-a52e-439d-8c73-5f9075bc97e7"
      },
      "execution_count": 3,
      "outputs": [
        {
          "output_type": "stream",
          "name": "stdout",
          "text": [
            "[[3, 1, 5], [5, 4, 5], [3, 4, 2]]\n"
          ]
        }
      ]
    },
    {
      "cell_type": "code",
      "source": [
        "# Створіть масив розміром 3x3, заповніть його випадковими натуральними числами від 1 до 5 та знайдіть максимальне значення за рядком.\n",
        "matrix = [[random.randint(1, 5) for _ in range(3)] for _ in range(3)]\n",
        "max_in_rows = [max(row) for row in matrix]\n",
        "print(matrix)\n",
        "print(max_in_rows)\n"
      ],
      "metadata": {
        "colab": {
          "base_uri": "https://localhost:8080/"
        },
        "id": "leZNWsF5lpe2",
        "outputId": "1be9bbf4-c4b3-45b1-b212-ce9389d4a6cd"
      },
      "execution_count": 4,
      "outputs": [
        {
          "output_type": "stream",
          "name": "stdout",
          "text": [
            "[[2, 5, 4], [3, 4, 4], [5, 5, 2]]\n",
            "[5, 4, 5]\n"
          ]
        }
      ]
    },
    {
      "cell_type": "code",
      "source": [
        "# Створіть масив розміром 3x3, заповніть його випадковими дійсними числами в діапазоні від 0 до 10 та знайдіть вектор-стовпчик, що містить мінімальні елементи в кожному рядку.\n",
        "import random\n",
        "matrix = [[random.uniform(0, 10) for _ in range(3)] for _ in range(3)]\n",
        "min_in_rows = [min(row) for row in matrix]\n",
        "print(matrix)\n",
        "print(min_in_rows)\n"
      ],
      "metadata": {
        "colab": {
          "base_uri": "https://localhost:8080/"
        },
        "id": "asHqiKFcl8jD",
        "outputId": "7dce5e75-2107-4cb9-91f5-befb9b04091c"
      },
      "execution_count": 5,
      "outputs": [
        {
          "output_type": "stream",
          "name": "stdout",
          "text": [
            "[[5.773320327157658, 4.960149550117482, 4.968894434535497], [8.324338458687157, 0.33117350724815364, 1.039768515760825], [7.058454339764623, 3.2755444157738633, 4.306344302362207]]\n",
            "[4.960149550117482, 0.33117350724815364, 3.2755444157738633]\n"
          ]
        }
      ]
    },
    {
      "cell_type": "code",
      "source": [
        "# Створіть два одновимірних масиви розміром 6, заповніть їх випадковими дійсними числами від 0 до 1 та виконайте на них поелементні операції додавання, віднімання та множення.\n",
        "array1 = [random.uniform(0, 1) for _ in range(6)]\n",
        "array2 = [random.uniform(0, 1) for _ in range(6)]\n",
        "\n",
        "addition = [a + b for a, b in zip(array1, array2)]\n",
        "subtraction = [a - b for a, b in zip(array1, array2)]\n",
        "multiplication = [a * b for a, b in zip(array1, array2)]\n",
        "\n",
        "print(array1)\n",
        "print(array2)\n",
        "print(addition)\n",
        "print(subtraction)\n",
        "print(multiplication)\n"
      ],
      "metadata": {
        "colab": {
          "base_uri": "https://localhost:8080/"
        },
        "id": "sz-l4lO4mK0l",
        "outputId": "10dcdd82-8753-4da6-f984-d40f5611b65c"
      },
      "execution_count": 6,
      "outputs": [
        {
          "output_type": "stream",
          "name": "stdout",
          "text": [
            "[0.3472636246593175, 0.48736976776937335, 0.8822399846462561, 0.5595045856079981, 0.5073319574945668, 0.815384996429831]\n",
            "[0.14111530587006105, 0.5891583021141145, 0.4032954436760513, 0.15754715496981853, 0.624309863786384, 0.18351759363549025]\n",
            "[0.48837893052937853, 1.0765280698834878, 1.2855354283223073, 0.7170517405778166, 1.131641821280951, 0.9989025900653212]\n",
            "[0.20614831878925644, -0.10178853434474111, 0.4789445409702048, 0.40195743063817957, -0.11697790629181715, 0.6318674027943407]\n",
            "[0.04900421261134566, 0.2871379448807543, 0.3558033660366645, 0.08814835565510737, 0.31673234527791255, 0.14963749243128538]\n"
          ]
        }
      ]
    },
    {
      "cell_type": "code",
      "source": [
        "# Створіть дві матриці 4x4, заповніть їх довільними цілими числами від 0 до 10 та знайдіть їх добуток.\n",
        "matrix1 = [[random.randint(0, 10) for _ in range(4)] for _ in range(4)]\n",
        "matrix2 = [[random.randint(0, 10) for _ in range(4)] for _ in range(4)]\n",
        "\n",
        "product = [[sum(a * b for a, b in zip(row, col)) for col in zip(*matrix2)] for row in matrix1]\n",
        "\n",
        "print(matrix1)\n",
        "print(matrix2)\n",
        "print(product)\n"
      ],
      "metadata": {
        "colab": {
          "base_uri": "https://localhost:8080/"
        },
        "id": "s7IcNIP2mdzA",
        "outputId": "2cb2ce61-4cb8-4f60-d0ed-fc02535ec8d1"
      },
      "execution_count": 7,
      "outputs": [
        {
          "output_type": "stream",
          "name": "stdout",
          "text": [
            "[[7, 9, 2, 7], [4, 0, 5, 5], [4, 6, 3, 9], [7, 4, 10, 2]]\n",
            "[[2, 6, 2, 1], [8, 2, 7, 4], [8, 9, 4, 6], [5, 3, 4, 8]]\n",
            "[[137, 99, 113, 111], [73, 84, 48, 74], [125, 90, 98, 118], [136, 146, 90, 99]]\n"
          ]
        }
      ]
    },
    {
      "cell_type": "code",
      "source": [
        "# Створіть дві матриці розміром 3x2 та 2x4, заповніть їх випадковими цілими числами в діапазоні від 1 до 4 та перемножте їх між собою.\n",
        "\n",
        "matrix1 = [[random.randint(1, 4) for _ in range(2)] for _ in range(3)]\n",
        "matrix2 = [[random.randint(1, 4) for _ in range(4)] for _ in range(2)]\n",
        "\n",
        "product = [[sum(a * b for a, b in zip(row, col)) for col in zip(*matrix2)] for row in matrix1]\n",
        "\n",
        "print(matrix1)\n",
        "print(matrix2)\n",
        "print(product)\n"
      ],
      "metadata": {
        "colab": {
          "base_uri": "https://localhost:8080/"
        },
        "id": "duKiSJDOnmpU",
        "outputId": "dc3a2e80-e4a6-4b3d-b7e6-26b70ce685a0"
      },
      "execution_count": 8,
      "outputs": [
        {
          "output_type": "stream",
          "name": "stdout",
          "text": [
            "[[1, 4], [3, 3], [1, 1]]\n",
            "[[1, 4, 4, 4], [2, 1, 4, 2]]\n",
            "[[9, 8, 20, 12], [9, 15, 24, 18], [3, 5, 8, 6]]\n"
          ]
        }
      ]
    },
    {
      "cell_type": "code",
      "source": [
        "# Створіть дві матриці розміром 3x2 та 2x4, заповніть їх випадковими цілими числами в діапазоні від 1 до 4 та перемножте їх між собою.\n",
        "\n",
        "matrix1 = [[random.randint(1, 4) for _ in range(2)] for _ in range(3)]\n",
        "matrix2 = [[random.randint(1, 4) for _ in range(4)] for _ in range(2)]\n",
        "\n",
        "product = [[sum(a * b for a, b in zip(row, col)) for col in zip(*matrix2)] for row in matrix1]\n",
        "\n",
        "print(matrix1)\n",
        "print(matrix2)\n",
        "print(product)\n"
      ],
      "metadata": {
        "colab": {
          "base_uri": "https://localhost:8080/"
        },
        "id": "ERX_Gw7Pn0ti",
        "outputId": "d21c1e4f-9938-42af-cab1-0082bd735778"
      },
      "execution_count": 9,
      "outputs": [
        {
          "output_type": "stream",
          "name": "stdout",
          "text": [
            "[[1, 3], [4, 4], [3, 2]]\n",
            "[[4, 2, 3, 1], [3, 3, 3, 3]]\n",
            "[[13, 11, 12, 10], [28, 20, 24, 16], [18, 12, 15, 9]]\n"
          ]
        }
      ]
    },
    {
      "cell_type": "code",
      "source": [
        "# Створіть матрицю розміром 2x2, заповніть її випадковими цілими числами в діапазоні від 1 до 8 та знайдіть її обернену матрицю.\n",
        "\n",
        "import numpy as np\n",
        "\n",
        "matrix = [[random.randint(1, 8) for _ in range(2)] for _ in range(2)]\n",
        "matrix_np = np.array(matrix)\n",
        "\n",
        "# Перевірка, чи матриця є оберненою (визначник не нульовий)\n",
        "if np.linalg.det(matrix_np) != 0:\n",
        "    inverse_matrix = np.linalg.inv(matrix_np)\n",
        "else:\n",
        "    inverse_matrix = \"Матриця не має оберненої матриці (визначник дорівнює нулю).\"\n",
        "\n",
        "print(matrix)\n",
        "print(inverse_matrix)\n"
      ],
      "metadata": {
        "colab": {
          "base_uri": "https://localhost:8080/"
        },
        "id": "TpSl_ah-oQL1",
        "outputId": "ea2beb63-e35d-489a-b030-f70264f513f5"
      },
      "execution_count": 11,
      "outputs": [
        {
          "output_type": "stream",
          "name": "stdout",
          "text": [
            "[[6, 2], [4, 5]]\n",
            "[[ 0.22727273 -0.09090909]\n",
            " [-0.18181818  0.27272727]]\n"
          ]
        }
      ]
    },
    {
      "cell_type": "code",
      "source": [
        "# Створіть матрицю розміром 2x2, заповніть її випадковими цілими числами в діапазоні від 1 до 8 та знайдіть її обернену матрицю.\n",
        "import random\n",
        "import numpy as np\n",
        "\n",
        "matrix = [[random.randint(1, 8) for _ in range(2)] for _ in range(2)]\n",
        "matrix_np = np.array(matrix)\n",
        "\n",
        "# Перевірка, чи матриця є оберненою (визначник не нульовий)\n",
        "if np.linalg.det(matrix_np) != 0:\n",
        "    inverse_matrix = np.linalg.inv(matrix_np)\n",
        "else:\n",
        "    inverse_matrix = \"Матриця не має оберненої матриці (визначник дорівнює нулю).\"\n",
        "\n",
        "print(matrix)\n",
        "print(inverse_matrix)\n"
      ],
      "metadata": {
        "colab": {
          "base_uri": "https://localhost:8080/"
        },
        "id": "ZxhVp9V1oq7F",
        "outputId": "2a79e323-071e-4861-eb40-d7cb7f58fdd7"
      },
      "execution_count": 12,
      "outputs": [
        {
          "output_type": "stream",
          "name": "stdout",
          "text": [
            "[[1, 7], [6, 3]]\n",
            "[[-0.07692308  0.17948718]\n",
            " [ 0.15384615 -0.02564103]]\n"
          ]
        }
      ]
    },
    {
      "cell_type": "code",
      "source": [
        "# Створіть матрицю розміром 3x3, заповніть її випадковими цілими числами в діапазоні від 0 до 1 та транспонуйте її.\n",
        "import random\n",
        "\n",
        "matrix = [[random.randint(0, 1) for _ in range(3)] for _ in range(3)]\n",
        "transposed_matrix = [[matrix[j][i] for j in range(3)] for i in range(3)]\n",
        "\n",
        "print(matrix)\n",
        "print(transposed_matrix)\n"
      ],
      "metadata": {
        "colab": {
          "base_uri": "https://localhost:8080/"
        },
        "id": "JBc3jAeqpQST",
        "outputId": "9acd2fc6-b4c1-4aaa-9065-a67ad1c8b941"
      },
      "execution_count": 13,
      "outputs": [
        {
          "output_type": "stream",
          "name": "stdout",
          "text": [
            "[[0, 0, 0], [1, 1, 0], [1, 1, 0]]\n",
            "[[0, 1, 1], [0, 1, 1], [0, 0, 0]]\n"
          ]
        }
      ]
    },
    {
      "cell_type": "code",
      "source": [
        "# Створіть матрицю розміром 3x4 та вектор розміром 4x1, заповніть матрицю випадковими дійсними числами від 0 до 1,\n",
        "# а вектор - випадковими цілими числами в діапазоні від 1 до 10, і знайдіть добуток матриці на вектор.\n",
        "import random\n",
        "import numpy as np\n",
        "\n",
        "# Створення матриці 3x4 з випадковими дійсними числами від 0 до 1\n",
        "matrix = np.random.rand(3, 4)\n",
        "\n",
        "# Створення вектора 4x1 з випадковими цілими числами від 1 до 10\n",
        "vector = np.random.randint(1, 11, size=(4, 1))\n",
        "\n",
        "# Обчислення добутку матриці на вектор\n",
        "product = np.dot(matrix, vector)\n",
        "\n",
        "print(matrix)\n",
        "print(vector)\n",
        "print(product)\n"
      ],
      "metadata": {
        "colab": {
          "base_uri": "https://localhost:8080/"
        },
        "id": "p6htq8X4qx8W",
        "outputId": "ddd71005-6c0a-4d9d-eedc-478ff50dcb4a"
      },
      "execution_count": 14,
      "outputs": [
        {
          "output_type": "stream",
          "name": "stdout",
          "text": [
            "[[0.03595049 0.83948438 0.7762636  0.49183629]\n",
            " [0.16463357 0.27254534 0.14271596 0.89004026]\n",
            " [0.86471522 0.74735414 0.76984944 0.96774357]]\n",
            "[[5]\n",
            " [6]\n",
            " [9]\n",
            " [3]]\n",
            "[[13.67854001]\n",
            " [ 6.41300437]\n",
            " [18.63957662]]\n"
          ]
        }
      ]
    },
    {
      "cell_type": "code",
      "source": [
        "# Створіть матрицю розміром 2x3 та вектор розміром 3x1, заповніть матрицю випадковими цілими числами в діапазоні від 1 до 10,\n",
        "# а вектор - випадковими цілими числами в діапазоні від 1 до 10, і знайдіть добуток матриці на вектор.\n",
        "import random\n",
        "import numpy as np\n",
        "\n",
        "# Створення матриці 2x3 з випадковими цілими числами від 1 до 10\n",
        "matrix = np.random.randint(1, 11, size=(2, 3))\n",
        "\n",
        "# Створення вектора 3x1 з випадковими цілими числами від 1 до 10\n",
        "vector = np.random.randint(1, 11, size=(3, 1))\n",
        "\n",
        "# Обчислення добутку матриці на вектор\n",
        "product = np.dot(matrix, vector)\n",
        "\n",
        "print(matrix)\n",
        "print(vector)\n",
        "print(product)\n",
        "\n"
      ],
      "metadata": {
        "colab": {
          "base_uri": "https://localhost:8080/"
        },
        "id": "MOqRihS2qzY4",
        "outputId": "25e011f9-5d41-48bf-eb8e-eb56ffcd62d6"
      },
      "execution_count": 15,
      "outputs": [
        {
          "output_type": "stream",
          "name": "stdout",
          "text": [
            "[[ 4 10  3]\n",
            " [ 7  2  3]]\n",
            "[[8]\n",
            " [8]\n",
            " [2]]\n",
            "[[118]\n",
            " [ 78]]\n"
          ]
        }
      ]
    },
    {
      "cell_type": "code",
      "source": [
        "# Створіть дві матриці розміром 2x2, заповніть їх випадковими цілими числами в діапазоні від 1 до 10\n",
        "# та знайдіть суму елементів діагоналі для обох матриць (окремо).\n",
        "import random\n",
        "import numpy as np\n",
        "\n",
        "# Створення двох матриць 2x2 з випадковими цілими числами від 1 до 10\n",
        "matrix1 = np.random.randint(1, 11, size=(2, 2))\n",
        "matrix2 = np.random.randint(1, 11, size=(2, 2))\n",
        "\n",
        "# Обчислення суми елементів діагоналі для обох матриць\n",
        "diagonal_sum1 = np.trace(matrix1)\n",
        "diagonal_sum2 = np.trace(matrix2)\n",
        "\n",
        "print(matrix1)\n",
        "print(\"Сума діагоналі першої матриці:\", diagonal_sum1)\n",
        "print(matrix2)\n",
        "print(\"Сума діагоналі другої матриці:\", diagonal_sum2)\n"
      ],
      "metadata": {
        "colab": {
          "base_uri": "https://localhost:8080/"
        },
        "id": "RRhhGoQpq5lx",
        "outputId": "db3fceff-c525-47f6-8ffd-cb7f574eaa53"
      },
      "execution_count": 16,
      "outputs": [
        {
          "output_type": "stream",
          "name": "stdout",
          "text": [
            "[[ 5  9]\n",
            " [10  9]]\n",
            "Сума діагоналі першої матриці: 14\n",
            "[[5 2]\n",
            " [5 4]]\n",
            "Сума діагоналі другої матриці: 9\n"
          ]
        }
      ]
    },
    {
      "cell_type": "code",
      "source": [
        "# Створіть дві матриці розміром 3x3, заповніть їх випадковими дійсними числами в діапазоні від 0 до 1 та знайдіть суму їх елементів.\n",
        "import numpy as np\n",
        "\n",
        "# Створення двох матриць 3x3 з випадковими дійсними числами від 0 до 1\n",
        "matrix1 = np.random.rand(3, 3)\n",
        "matrix2 = np.random.rand(3, 3)\n",
        "\n",
        "# Обчислення суми елементів для обох матриць\n",
        "sum_matrix1 = np.sum(matrix1)\n",
        "sum_matrix2 = np.sum(matrix2)\n",
        "\n",
        "print(matrix1)\n",
        "print(\"Сума елементів першої матриці:\", sum_matrix1)\n",
        "print(matrix2)\n",
        "print(\"Сума елементів другої матриці:\", sum_matrix2)\n",
        "\n"
      ],
      "metadata": {
        "colab": {
          "base_uri": "https://localhost:8080/"
        },
        "id": "WRoSl-VGq-8J",
        "outputId": "81e9c3b3-cc1c-45f6-bf1d-c24bbd00b059"
      },
      "execution_count": 17,
      "outputs": [
        {
          "output_type": "stream",
          "name": "stdout",
          "text": [
            "[[0.51881572 0.86447159 0.21383714]\n",
            " [0.1441186  0.45931142 0.25047594]\n",
            " [0.16946122 0.60259707 0.05655051]]\n",
            "Сума елементів першої матриці: 3.2796392257669216\n",
            "[[0.78095847 0.79959296 0.42059564]\n",
            " [0.67884676 0.88709063 0.64979709]\n",
            " [0.09998588 0.53737533 0.0934764 ]]\n",
            "Сума елементів другої матриці: 4.947719157356275\n"
          ]
        }
      ]
    },
    {
      "cell_type": "code",
      "source": [
        "# Створіть матрицю розміром 3x3, заповніть її випадковими дійсними числами в діапазоні від -5 до 5\n",
        "# та знайдіть середнє геометричне значення елементів матриці.\n",
        "import numpy as np\n",
        "\n",
        "# Створення матриці 3x3 з випадковими дійсними числами від -5 до 5\n",
        "matrix = np.random.uniform(-5, 5, size=(3, 3))\n",
        "\n",
        "# Обчислення середнього геометричного значення елементів матриці\n",
        "# Додамо 5 до всіх елементів, щоб уникнути негативних значень\n",
        "geometric_mean = np.exp(np.mean(np.log(matrix + 5)))\n",
        "\n",
        "print(matrix)\n",
        "print(\"Середнє геометричне значення елементів матриці:\", geometric_mean)\n"
      ],
      "metadata": {
        "colab": {
          "base_uri": "https://localhost:8080/"
        },
        "id": "cmqHBPT8rHhB",
        "outputId": "3c0f4bc0-f008-468d-8c21-4a511ec2e7fc"
      },
      "execution_count": 18,
      "outputs": [
        {
          "output_type": "stream",
          "name": "stdout",
          "text": [
            "[[ 2.26436336 -4.48586459  0.10846949]\n",
            " [ 1.95075772 -2.73529707  2.67563914]\n",
            " [ 1.5743539   2.44341449 -1.26732255]]\n",
            "Середнє геометричне значення елементів матриці: 4.216284920793366\n"
          ]
        }
      ]
    },
    {
      "cell_type": "code",
      "source": [
        "# Створіть матрицю розміром 3x3, заповніть її випадковими дійсними числами в діапазоні від 0 до 1\n",
        "# та знайдіть вектор-стовпчик, що містить кількість додатних елементів в кожному рядку матриці.\n",
        "import numpy as np\n",
        "\n",
        "# Створення матриці 3x3 з випадковими дійсними числами від 0 до 1\n",
        "matrix = np.random.rand(3, 3)\n",
        "\n",
        "# Обчислення кількості додатних елементів в кожному рядку\n",
        "positive_count = np.sum(matrix > 0, axis=1)\n",
        "\n",
        "print(matrix)\n",
        "print(\"Кількість додатніх елементів в кожному рядку:\", positive_count)\n"
      ],
      "metadata": {
        "colab": {
          "base_uri": "https://localhost:8080/"
        },
        "id": "ESni7fkNrM4L",
        "outputId": "4ed7b852-7d8b-49c4-cdd8-3975f36b7778"
      },
      "execution_count": 19,
      "outputs": [
        {
          "output_type": "stream",
          "name": "stdout",
          "text": [
            "[[0.74140803 0.80234763 0.32792306]\n",
            " [0.2056105  0.40109095 0.57233155]\n",
            " [0.900494   0.14790895 0.20526301]]\n",
            "Кількість додатніх елементів в кожному рядку: [3 3 3]\n"
          ]
        }
      ]
    },
    {
      "cell_type": "markdown",
      "source": [
        "У процесі виконання завдань було створено різноманітні матриці та вектори за допомогою випадкових чисел. Зокрема, було виконано такі основні дії:\n",
        "\n",
        "1. **Створення матриць і векторів**: Матриці різних розмірів заповнювалися випадковими цілими та дійсними числами в заданих діапазонах.\n",
        "\n",
        "2. **Обчислення характеристик матриць**: Для матриць обчислювалися суми елементів діагоналі, середнє геометричне значення, кількість додатних елементів у рядках, а також здійснювалися операції множення та додавання.\n",
        "\n",
        "3. **Транспонування**: Виконувалося транспонування матриць, що дозволяло змінювати їх форму для подальших обчислень.\n",
        "\n",
        "4. **Вектор-стовпчик**: Створено вектори, що відображають певні характеристики матриць, такі як кількість додатніх елементів.\n",
        "\n",
        "Ці завдання демонструють основи роботи з масивами та матрицями в Python, використовуючи бібліотеку NumPy для виконання обчислень, що є важливим для математичних і наукових задач."
      ],
      "metadata": {
        "id": "Jb8sbJ4_sGfu"
      }
    }
  ]
}